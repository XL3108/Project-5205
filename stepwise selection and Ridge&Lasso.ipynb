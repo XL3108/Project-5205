{
 "cells": [
  {
   "cell_type": "code",
   "execution_count": 1,
   "metadata": {},
   "outputs": [],
   "source": [
    "import matplotlib.pyplot as plt\n",
    "import numpy as np\n",
    "import pandas as pd\n",
    "from sklearn.linear_model import ElasticNet, Lasso, LinearRegression, Ridge\n",
    "from sklearn.metrics import mean_squared_error\n",
    "import statsmodels as sm\n",
    "import statsmodels.api as sma\n",
    "import statsmodels.formula.api as smf\n",
    "from scipy.stats import f"
   ]
  },
  {
   "cell_type": "code",
   "execution_count": 2,
   "metadata": {},
   "outputs": [],
   "source": [
    "df_train, df_test = pd.read_csv(\"ks_train.csv\", index_col=0), pd.read_csv(\"ks_test.csv\", index_col=0)"
   ]
  },
  {
   "cell_type": "code",
   "execution_count": 3,
   "metadata": {},
   "outputs": [],
   "source": [
    "def forward_selection_reg(df, label, sig_enter, sig_remove=None, stepwise=True):\n",
    "    \"\"\"\n",
    "    Forward regression using F-statistics\n",
    "    \n",
    "    Parameters\n",
    "    ----------\n",
    "    df: pandas.DataFrame, contains columns [\"y\", \"x1\", ... , \"x{p-1}\"]\n",
    "    sig_enter: float, p-value for f statistics threshold to enter\n",
    "    sig_remove: float, p-value for f statistics threshold to drop (not required if stepwise=False)\n",
    "    stepwise: bool, if use stepwise regression\n",
    "    \"\"\"\n",
    "    # lambda sse computation\n",
    "    sse_func = lambda x: np.power(x, 2).sum()\n",
    "    # set container for selected predictors\n",
    "    selected_feature = set()\n",
    "    # number of predictors\n",
    "    features = df.drop(columns=label).columns\n",
    "    x_num = len(features)\n",
    "    # number of samples\n",
    "    n = len(df)\n",
    "    \n",
    "    # switch for break condition\n",
    "    continue_select = True\n",
    "    first_round = True\n",
    "    prev_model = None\n",
    "    cnt = 0\n",
    "    while continue_select:\n",
    "        cnt += 1\n",
    "        print(\"-\"*80)\n",
    "        print(\"Iter\", cnt)\n",
    "        # turn off switch if no further progress\n",
    "        continue_select = False\n",
    "        # this iter;s candidated predictors\n",
    "        candidates = [i for i in features if i not in selected_feature]\n",
    "        # first iter\n",
    "        if first_round:\n",
    "            models_list = [smf.ols(formula=f\"{label}~1+\"+x, data=df).fit() for x in candidates]\n",
    "            ssr_list = [model.mse_model for model in models_list]\n",
    "        # non-first iter\n",
    "        else:\n",
    "            models_list = [smf.ols(formula=f\"{label}~1+\"+\"+\".join(selected_feature)+\"+\"+x, data=df).fit() for x in candidates]\n",
    "            ssr_list = [sse_func(prev_model.resid) - sse_func(model.resid) for model in models_list]\n",
    "        mse_list = [model.mse_resid for model in models_list]\n",
    "        f_stat_list = [ssr / mse for mse, ssr in zip(mse_list, ssr_list)]\n",
    "        \n",
    "        # display result\n",
    "        print(\"candidates:\", candidates)\n",
    "        # print(\"ssr:\", ssr_list)\n",
    "        # print(\"mse:\", mse_list)\n",
    "        # print(\"f_stat:\", f_stat_list)\n",
    "        print(\"p-value:\", [1 - f.cdf(i, 1, n-len(selected_feature)-2) for i in f_stat_list])\n",
    "        \n",
    "        # get feature with max F-stat, select if exceed threshold\n",
    "        max_index = np.argmax(f_stat_list)\n",
    "        if 1 - f.cdf(f_stat_list[max_index], 1, n-len(selected_feature)-2) < sig_enter:\n",
    "            continue_select = True\n",
    "            selected_feature |= {candidates[max_index]}\n",
    "            new_selected_model = models_list[max_index]\n",
    "            print(\"selected predictor:\", candidates[max_index])\n",
    "        else:\n",
    "            new_selected_model = prev_model\n",
    "            print(\"No selected predictor.\")\n",
    "        \n",
    "        if first_round:\n",
    "            first_round = False\n",
    "            prev_model = new_selected_model\n",
    "            if stepwise:\n",
    "                print(\"First round, skip dropping.\")\n",
    "        \n",
    "        elif stepwise:\n",
    "            # drop predictors\n",
    "            temp_candidates = list(selected_feature)\n",
    "            drop_model_list = [smf.ols(formula=f\"{label}~1+\"+\"+\".join(selected_feature-{x}), data=df).fit() for x in temp_candidates]\n",
    "            drop_ssr_list = [sse_func(model.resid) - sse_func(new_selected_model.resid) for model in drop_model_list]\n",
    "            drop_mse = new_selected_model.mse_resid\n",
    "            drop_f_stat_list = [ssr / drop_mse for ssr in drop_ssr_list]\n",
    "\n",
    "            # display result\n",
    "            print(\"drop candidates:\", temp_candidates)\n",
    "            # print(\"drop ssr:\", drop_ssr_list)\n",
    "            # print(\"drop mse:\", drop_mse)\n",
    "            # print(\"drop f_stat:\", drop_f_stat_list)\n",
    "            print(\"p-value:\", [1 - f.cdf(i, 1, n-len(selected_feature)-2) for i in drop_f_stat_list])\n",
    "\n",
    "            min_index = np.argmin(drop_f_stat_list)\n",
    "            if 1 - f.cdf(drop_f_stat_list[min_index], 1, n-len(temp_candidates)-1) > sig_remove:\n",
    "                continue_select = True\n",
    "                print(\"drop predictor:\", temp_candidates[min_index])\n",
    "                selected_feature -= {temp_candidates[min_index]}\n",
    "                new_selected_model = drop_model_list[min_index]\n",
    "            else:\n",
    "                print(\"No dropped predictor.\")\n",
    "\n",
    "        # store as last iter's prev model\n",
    "        prev_model = new_selected_model\n",
    "    \n",
    "    print(\"Finished.\")\n",
    "    print(\"-\"*80)\n",
    "    \n",
    "    return selected_feature"
   ]
  },
  {
   "cell_type": "code",
   "execution_count": 4,
   "metadata": {
    "scrolled": false
   },
   "outputs": [
    {
     "name": "stdout",
     "output_type": "stream",
     "text": [
      "--------------------------------------------------------------------------------\n",
      "Iter 1\n",
      "candidates: ['bedrooms', 'bathrooms', 'sqft_living', 'sqft_lot', 'floors', 'waterfront', 'view', 'condition', 'grade', 'sqft_above', 'sqft_basement', 'renovated', 'lat', 'long', 'sqft_living15', 'sqft_lot15', 'yr_sale', 'mon_sale', 'age']\n",
      "p-value: [1.1102230246251565e-16, 1.1102230246251565e-16, 1.1102230246251565e-16, 1.1102230246251565e-16, 1.1102230246251565e-16, 1.1102230246251565e-16, 1.1102230246251565e-16, 6.416790536001304e-05, 1.1102230246251565e-16, 1.1102230246251565e-16, 1.1102230246251565e-16, 1.1102230246251565e-16, 1.1102230246251565e-16, 0.004436301463086267, 1.1102230246251565e-16, 1.1102230246251565e-16, 0.18241178810435377, 0.2586816782217686, 6.495914917081791e-13]\n",
      "selected predictor: sqft_living\n",
      "First round, skip dropping.\n",
      "--------------------------------------------------------------------------------\n",
      "Iter 2\n",
      "candidates: ['bedrooms', 'bathrooms', 'sqft_lot', 'floors', 'waterfront', 'view', 'condition', 'grade', 'sqft_above', 'sqft_basement', 'renovated', 'lat', 'long', 'sqft_living15', 'sqft_lot15', 'yr_sale', 'mon_sale', 'age']\n",
      "p-value: [1.1102230246251565e-16, 0.5048261519791344, 3.5676686827024184e-08, 0.10834030285843776, 1.1102230246251565e-16, 1.1102230246251565e-16, 1.1102230246251565e-16, 1.1102230246251565e-16, 4.1078405687233754e-05, 4.1078405687233754e-05, 1.1102230246251565e-16, 1.1102230246251565e-16, 1.1102230246251565e-16, 1.1102230246251565e-16, 3.3306690738754696e-16, 3.6871383413128456e-07, 0.0011054465061629548, 1.1102230246251565e-16]\n",
      "selected predictor: lat\n",
      "drop candidates: ['lat', 'sqft_living']\n",
      "p-value: [1.1102230246251565e-16, 1.1102230246251565e-16]\n",
      "No dropped predictor.\n",
      "--------------------------------------------------------------------------------\n",
      "Iter 3\n",
      "candidates: ['bedrooms', 'bathrooms', 'sqft_lot', 'floors', 'waterfront', 'view', 'condition', 'grade', 'sqft_above', 'sqft_basement', 'renovated', 'long', 'sqft_living15', 'sqft_lot15', 'yr_sale', 'mon_sale', 'age']\n",
      "p-value: [1.1102230246251565e-16, 0.5742701426871837, 0.1871148161986803, 0.9179947712217329, 1.1102230246251565e-16, 1.1102230246251565e-16, 1.1102230246251565e-16, 1.1102230246251565e-16, 0.5641553873085328, 0.5641553873109577, 1.1102230246251565e-16, 1.1102230246251565e-16, 1.1102230246251565e-16, 2.143008680721703e-05, 3.5621505745098148e-12, 8.025517514220759e-06, 1.1102230246251565e-16]\n",
      "selected predictor: waterfront\n",
      "drop candidates: ['lat', 'waterfront', 'sqft_living']\n",
      "p-value: [1.1102230246251565e-16, 1.1102230246251565e-16, 1.1102230246251565e-16]\n",
      "No dropped predictor.\n",
      "--------------------------------------------------------------------------------\n",
      "Iter 4\n",
      "candidates: ['bedrooms', 'bathrooms', 'sqft_lot', 'floors', 'view', 'condition', 'grade', 'sqft_above', 'sqft_basement', 'renovated', 'long', 'sqft_living15', 'sqft_lot15', 'yr_sale', 'mon_sale', 'age']\n",
      "p-value: [1.1102230246251565e-16, 0.10338731750877395, 0.12590191801667427, 0.42742841293580014, 1.1102230246251565e-16, 1.1102230246251565e-16, 1.1102230246251565e-16, 0.007918014287244812, 0.00791801428725436, 1.1102230246251565e-16, 1.1102230246251565e-16, 1.1102230246251565e-16, 6.884575673993254e-07, 9.492406860545088e-14, 2.631335412894842e-07, 1.1102230246251565e-16]\n",
      "selected predictor: grade\n",
      "drop candidates: ['lat', 'waterfront', 'sqft_living', 'grade']\n",
      "p-value: [1.1102230246251565e-16, 1.1102230246251565e-16, 1.1102230246251565e-16, 1.1102230246251565e-16]\n",
      "No dropped predictor.\n",
      "--------------------------------------------------------------------------------\n",
      "Iter 5\n",
      "candidates: ['bedrooms', 'bathrooms', 'sqft_lot', 'floors', 'view', 'condition', 'sqft_above', 'sqft_basement', 'renovated', 'long', 'sqft_living15', 'sqft_lot15', 'yr_sale', 'mon_sale', 'age']\n",
      "p-value: [1.1102230246251565e-16, 7.423253123306495e-10, 0.27222303316367724, 1.1102230246251565e-16, 1.1102230246251565e-16, 1.1102230246251565e-16, 6.661338147750939e-16, 6.661338147750939e-16, 1.1102230246251565e-16, 1.1102230246251565e-16, 8.384920386350636e-06, 9.777429002544302e-06, 9.992007221626409e-16, 1.451264259877405e-07, 1.1102230246251565e-16]\n",
      "selected predictor: age\n",
      "drop candidates: ['sqft_living', 'waterfront', 'lat', 'grade', 'age']\n",
      "p-value: [1.1102230246251565e-16, 1.1102230246251565e-16, 1.1102230246251565e-16, 1.1102230246251565e-16, 1.1102230246251565e-16]\n",
      "No dropped predictor.\n",
      "--------------------------------------------------------------------------------\n",
      "Iter 6\n",
      "candidates: ['bedrooms', 'bathrooms', 'sqft_lot', 'floors', 'view', 'condition', 'sqft_above', 'sqft_basement', 'renovated', 'long', 'sqft_living15', 'sqft_lot15', 'yr_sale', 'mon_sale']\n",
      "p-value: [1.1102230246251565e-16, 1.1102230246251565e-16, 0.11530240406554926, 8.286909997101688e-07, 1.1102230246251565e-16, 3.396172232328354e-13, 0.2911256568292059, 0.2911256568292059, 2.4162726597332096e-08, 1.1102230246251565e-16, 2.4904621698240703e-09, 9.328094921268182e-06, 3.3306690738754696e-16, 3.5012743015983006e-07]\n",
      "selected predictor: view\n",
      "drop candidates: ['sqft_living', 'view', 'waterfront', 'lat', 'grade', 'age']\n",
      "p-value: [1.1102230246251565e-16, 1.1102230246251565e-16, 1.1102230246251565e-16, 1.1102230246251565e-16, 1.1102230246251565e-16, 1.1102230246251565e-16]\n",
      "No dropped predictor.\n",
      "--------------------------------------------------------------------------------\n",
      "Iter 7\n",
      "candidates: ['bedrooms', 'bathrooms', 'sqft_lot', 'floors', 'condition', 'sqft_above', 'sqft_basement', 'renovated', 'long', 'sqft_living15', 'sqft_lot15', 'yr_sale', 'mon_sale']\n",
      "p-value: [1.1102230246251565e-16, 1.1102230246251565e-16, 0.02385831751800449, 1.1280388956258491e-08, 6.135092434078615e-13, 3.402490343917819e-06, 3.402490343917819e-06, 1.8519273603523345e-07, 1.0386469462275727e-11, 5.0456551471511624e-05, 8.166583338464761e-07, 8.881784197001252e-16, 6.631993789696367e-07]\n",
      "selected predictor: bedrooms\n",
      "drop candidates: ['bedrooms', 'sqft_living', 'view', 'waterfront', 'lat', 'grade', 'age']\n",
      "p-value: [1.1102230246251565e-16, 1.1102230246251565e-16, 1.1102230246251565e-16, 1.1102230246251565e-16, 1.1102230246251565e-16, 1.1102230246251565e-16, 1.1102230246251565e-16]\n",
      "No dropped predictor.\n",
      "--------------------------------------------------------------------------------\n",
      "Iter 8\n",
      "candidates: ['bathrooms', 'sqft_lot', 'floors', 'condition', 'sqft_above', 'sqft_basement', 'renovated', 'long', 'sqft_living15', 'sqft_lot15', 'yr_sale', 'mon_sale']\n",
      "p-value: [1.1102230246251565e-16, 0.0006193580178460723, 6.295541643552838e-09, 1.2212453270876722e-15, 4.089190025602374e-05, 4.0891900256356806e-05, 2.559979519478617e-07, 8.164580123093401e-13, 0.0001484213812952273, 3.683531257792083e-10, 4.440892098500626e-16, 2.263696179394259e-07]\n",
      "selected predictor: bathrooms\n",
      "drop candidates: ['bedrooms', 'sqft_living', 'view', 'waterfront', 'bathrooms', 'lat', 'grade', 'age']\n",
      "p-value: [1.1102230246251565e-16, 1.1102230246251565e-16, 1.1102230246251565e-16, 1.1102230246251565e-16, 1.1102230246251565e-16, 1.1102230246251565e-16, 1.1102230246251565e-16, 1.1102230246251565e-16]\n",
      "No dropped predictor.\n",
      "--------------------------------------------------------------------------------\n",
      "Iter 9\n",
      "candidates: ['sqft_lot', 'floors', 'condition', 'sqft_above', 'sqft_basement', 'renovated', 'long', 'sqft_living15', 'sqft_lot15', 'yr_sale', 'mon_sale']\n",
      "p-value: [0.007293656485062083, 0.006130443036393429, 1.2878587085651816e-14, 2.704268552422562e-07, 2.704268552422562e-07, 0.0012962808909974255, 2.78283240895405e-09, 1.6917452172471314e-07, 9.011489843224751e-08, 2.220446049250313e-16, 2.9117592281746596e-07]\n",
      "selected predictor: yr_sale\n",
      "drop candidates: ['yr_sale', 'bedrooms', 'lat', 'view', 'waterfront', 'bathrooms', 'sqft_living', 'grade', 'age']\n",
      "p-value: [2.220446049250313e-16, 1.1102230246251565e-16, 1.1102230246251565e-16, 1.1102230246251565e-16, 1.1102230246251565e-16, 1.1102230246251565e-16, 1.1102230246251565e-16, 1.1102230246251565e-16, 1.1102230246251565e-16]\n",
      "No dropped predictor.\n",
      "--------------------------------------------------------------------------------\n",
      "Iter 10\n",
      "candidates: ['sqft_lot', 'floors', 'condition', 'sqft_above', 'sqft_basement', 'renovated', 'long', 'sqft_living15', 'sqft_lot15', 'mon_sale']\n",
      "p-value: [0.006670627472662338, 0.006114774386125399, 1.1102230246251565e-16, 3.542472956086229e-07, 3.542472956086229e-07, 0.0006452697258452211, 2.5005409964862224e-09, 2.1539760330924196e-07, 8.150628494352219e-08, 0.03856259090839731]\n",
      "selected predictor: condition\n",
      "drop candidates: ['yr_sale', 'bedrooms', 'lat', 'condition', 'view', 'waterfront', 'bathrooms', 'sqft_living', 'grade', 'age']\n"
     ]
    },
    {
     "name": "stdout",
     "output_type": "stream",
     "text": [
      "p-value: [1.1102230246251565e-16, 1.1102230246251565e-16, 1.1102230246251565e-16, 1.1102230246251565e-16, 1.1102230246251565e-16, 1.1102230246251565e-16, 1.1102230246251565e-16, 1.1102230246251565e-16, 1.1102230246251565e-16, 1.1102230246251565e-16]\n",
      "No dropped predictor.\n",
      "--------------------------------------------------------------------------------\n",
      "Iter 11\n",
      "candidates: ['sqft_lot', 'floors', 'sqft_above', 'sqft_basement', 'renovated', 'long', 'sqft_living15', 'sqft_lot15', 'mon_sale']\n",
      "p-value: [0.006193897054079134, 0.00010402429699218896, 1.08650310970404e-09, 1.08650310970404e-09, 7.300185332903553e-07, 3.255576919158898e-10, 1.2227838075418163e-07, 4.1440805120807056e-08, 0.022598627719578435]\n",
      "selected predictor: long\n",
      "drop candidates: ['yr_sale', 'bedrooms', 'lat', 'condition', 'long', 'view', 'waterfront', 'bathrooms', 'sqft_living', 'grade', 'age']\n",
      "p-value: [1.1102230246251565e-16, 1.1102230246251565e-16, 1.1102230246251565e-16, 1.1102230246251565e-16, 3.2555813600509964e-10, 1.1102230246251565e-16, 1.1102230246251565e-16, 1.1102230246251565e-16, 1.1102230246251565e-16, 1.1102230246251565e-16, 1.1102230246251565e-16]\n",
      "No dropped predictor.\n",
      "--------------------------------------------------------------------------------\n",
      "Iter 12\n",
      "candidates: ['sqft_lot', 'floors', 'sqft_above', 'sqft_basement', 'renovated', 'sqft_living15', 'sqft_lot15', 'mon_sale']\n",
      "p-value: [0.12388029840485315, 0.0007354791882392409, 5.140332604014475e-14, 5.140332604014475e-14, 1.8765667120224094e-07, 6.574740751830177e-13, 2.575087392842068e-05, 0.03041095281087547]\n",
      "selected predictor: sqft_basement\n",
      "drop candidates: ['yr_sale', 'sqft_basement', 'bedrooms', 'lat', 'condition', 'long', 'view', 'waterfront', 'bathrooms', 'sqft_living', 'grade', 'age']\n",
      "p-value: [1.1102230246251565e-16, 5.140332604014475e-14, 1.1102230246251565e-16, 1.1102230246251565e-16, 1.1102230246251565e-16, 1.554312234475219e-14, 1.1102230246251565e-16, 1.1102230246251565e-16, 1.1102230246251565e-16, 1.1102230246251565e-16, 1.1102230246251565e-16, 1.1102230246251565e-16]\n",
      "No dropped predictor.\n",
      "--------------------------------------------------------------------------------\n",
      "Iter 13\n",
      "candidates: ['sqft_lot', 'floors', 'sqft_above', 'renovated', 'sqft_living15', 'sqft_lot15', 'mon_sale']\n",
      "p-value: [0.07356621453285683, 0.8675907507667708, 0.9999966456961946, 2.0907894271449123e-07, 1.4414125448780624e-10, 1.29088726615878e-05, 0.0372685431593891]\n",
      "selected predictor: sqft_living15\n",
      "drop candidates: ['yr_sale', 'sqft_basement', 'bedrooms', 'sqft_living15', 'lat', 'condition', 'long', 'view', 'waterfront', 'bathrooms', 'sqft_living', 'grade', 'age']\n",
      "p-value: [1.1102230246251565e-16, 1.1154632773013873e-11, 1.1102230246251565e-16, 1.4414158755471362e-10, 1.1102230246251565e-16, 1.1102230246251565e-16, 1.1102230246251565e-16, 1.1102230246251565e-16, 1.1102230246251565e-16, 1.1102230246251565e-16, 1.1102230246251565e-16, 1.1102230246251565e-16, 1.1102230246251565e-16]\n",
      "No dropped predictor.\n",
      "--------------------------------------------------------------------------------\n",
      "Iter 14\n",
      "candidates: ['sqft_lot', 'floors', 'sqft_above', 'renovated', 'sqft_lot15', 'mon_sale']\n",
      "p-value: [0.13526769592774135, 0.3294102688688213, 0.9999931445723265, 2.9396951761739842e-08, 1.1821751955687354e-05, 0.031689122898099775]\n",
      "selected predictor: renovated\n",
      "drop candidates: ['yr_sale', 'sqft_basement', 'renovated', 'bedrooms', 'sqft_living15', 'lat', 'condition', 'long', 'view', 'waterfront', 'bathrooms', 'sqft_living', 'grade', 'age']\n",
      "p-value: [1.1102230246251565e-16, 1.5484058479842133e-11, 2.9396979850382365e-08, 1.1102230246251565e-16, 2.0678236900550928e-11, 1.1102230246251565e-16, 1.1102230246251565e-16, 1.1102230246251565e-16, 1.1102230246251565e-16, 1.1102230246251565e-16, 1.1102230246251565e-16, 1.1102230246251565e-16, 1.1102230246251565e-16, 1.1102230246251565e-16]\n",
      "No dropped predictor.\n",
      "--------------------------------------------------------------------------------\n",
      "Iter 15\n",
      "candidates: ['sqft_lot', 'floors', 'sqft_above', 'sqft_lot15', 'mon_sale']\n",
      "p-value: [0.15668168526231407, 0.4994496076050232, 1.0, 1.2396811964410226e-05, 0.025987303624887437]\n",
      "selected predictor: sqft_lot15\n",
      "drop candidates: ['yr_sale', 'sqft_basement', 'renovated', 'sqft_lot15', 'bedrooms', 'sqft_living15', 'lat', 'condition', 'long', 'view', 'waterfront', 'bathrooms', 'sqft_living', 'grade', 'age']\n",
      "p-value: [1.1102230246251565e-16, 8.576583887531797e-12, 3.081442945251922e-08, 1.2396816718940329e-05, 1.1102230246251565e-16, 1.8983259408855702e-11, 1.1102230246251565e-16, 1.1102230246251565e-16, 3.3306690738754696e-16, 1.1102230246251565e-16, 1.1102230246251565e-16, 1.1102230246251565e-16, 1.1102230246251565e-16, 1.1102230246251565e-16, 1.1102230246251565e-16]\n",
      "No dropped predictor.\n",
      "--------------------------------------------------------------------------------\n",
      "Iter 16\n",
      "candidates: ['sqft_lot', 'floors', 'sqft_above', 'mon_sale']\n",
      "p-value: [0.018394212999102932, 0.7068799016112204, 1.0, 0.024033951071279147]\n",
      "No selected predictor.\n",
      "drop candidates: ['yr_sale', 'sqft_basement', 'renovated', 'sqft_lot15', 'bedrooms', 'sqft_living15', 'lat', 'condition', 'long', 'view', 'waterfront', 'bathrooms', 'sqft_living', 'grade', 'age']\n",
      "p-value: [1.1102230246251565e-16, 8.576583887531797e-12, 3.081442945251922e-08, 1.2396816718940329e-05, 1.1102230246251565e-16, 1.8983259408855702e-11, 1.1102230246251565e-16, 1.1102230246251565e-16, 3.3306690738754696e-16, 1.1102230246251565e-16, 1.1102230246251565e-16, 1.1102230246251565e-16, 1.1102230246251565e-16, 1.1102230246251565e-16, 1.1102230246251565e-16]\n",
      "No dropped predictor.\n",
      "Finished.\n",
      "--------------------------------------------------------------------------------\n"
     ]
    }
   ],
   "source": [
    "selected_feature = forward_selection_reg(df_train, \"price\", 0.001, 0.002)"
   ]
  },
  {
   "cell_type": "code",
   "execution_count": 5,
   "metadata": {},
   "outputs": [],
   "source": [
    "X_train, X_test = df_train[selected_feature], df_test[selected_feature]\n",
    "y_train, y_test = df_train[\"price\"], df_test[\"price\"]"
   ]
  },
  {
   "cell_type": "code",
   "execution_count": 6,
   "metadata": {},
   "outputs": [],
   "source": [
    "mean = X_train.mean()\n",
    "std = X_train.std()\n",
    "label_mean = y_train.mean()\n",
    "label_std = y_test.std()\n",
    "X_train, X_test, y_train, y_test = (X_train-mean)/std, (X_test-mean)/std, (y_train-label_mean)/label_std, (y_test-label_mean)/label_std"
   ]
  },
  {
   "cell_type": "code",
   "execution_count": 7,
   "metadata": {},
   "outputs": [
    {
     "data": {
      "text/plain": [
       "0.36483916354156454"
      ]
     },
     "execution_count": 7,
     "metadata": {},
     "output_type": "execute_result"
    }
   ],
   "source": [
    "# lasso\n",
    "lasso_m = Lasso(alpha=0.1)\n",
    "lasso_m.fit(X_train, y_train)\n",
    "mean_squared_error(y_test, lasso_m.predict(X_test))"
   ]
  },
  {
   "cell_type": "code",
   "execution_count": 8,
   "metadata": {},
   "outputs": [
    {
     "data": {
      "text/plain": [
       "0.305132734244172"
      ]
     },
     "execution_count": 8,
     "metadata": {},
     "output_type": "execute_result"
    }
   ],
   "source": [
    "# ridge\n",
    "ridge_m = Ridge(alpha=0.1)\n",
    "ridge_m.fit(X_train, y_train)\n",
    "mean_squared_error(y_test, ridge_m.predict(X_test))"
   ]
  },
  {
   "cell_type": "code",
   "execution_count": 9,
   "metadata": {},
   "outputs": [
    {
     "data": {
      "text/plain": [
       "0.30513273420536846"
      ]
     },
     "execution_count": 9,
     "metadata": {},
     "output_type": "execute_result"
    }
   ],
   "source": [
    "lm = LinearRegression()\n",
    "lm.fit(X_train, y_train)\n",
    "mean_squared_error(y_test, lm.predict(X_test))"
   ]
  }
 ],
 "metadata": {
  "kernelspec": {
   "display_name": "Python 3",
   "language": "python",
   "name": "python3"
  },
  "language_info": {
   "codemirror_mode": {
    "name": "ipython",
    "version": 3
   },
   "file_extension": ".py",
   "mimetype": "text/x-python",
   "name": "python",
   "nbconvert_exporter": "python",
   "pygments_lexer": "ipython3",
   "version": "3.7.4"
  }
 },
 "nbformat": 4,
 "nbformat_minor": 2
}
